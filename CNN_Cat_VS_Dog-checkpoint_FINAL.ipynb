{
 "cells": [
  {
   "cell_type": "code",
   "execution_count": 1,
   "metadata": {
    "colab": {},
    "colab_type": "code",
    "id": "D6Eevmc0mXyZ"
   },
   "outputs": [],
   "source": [
    "# IMPORTING PYTHON LIBRARIES\n",
    "import tensorflow as tf\n",
    "from keras.preprocessing.image import ImageDataGenerator"
   ]
  },
  {
   "cell_type": "code",
   "execution_count": 2,
   "metadata": {
    "colab": {
     "base_uri": "https://localhost:8080/",
     "height": 35
    },
    "colab_type": "code",
    "id": "x7IZLK-7nAKl",
    "outputId": "4e3c448a-7cb1-421a-9464-8317b9c58673"
   },
   "outputs": [
    {
     "data": {
      "text/plain": [
       "'2.3.0'"
      ]
     },
     "execution_count": 2,
     "metadata": {},
     "output_type": "execute_result"
    }
   ],
   "source": [
    "tf.__version__"
   ]
  },
  {
   "cell_type": "code",
   "execution_count": 3,
   "metadata": {
    "colab": {},
    "colab_type": "code",
    "id": "1tQr3LRtnETO"
   },
   "outputs": [
    {
     "name": "stdout",
     "output_type": "stream",
     "text": [
      "Found 8000 images belonging to 2 classes.\n",
      "Found 2000 images belonging to 2 classes.\n"
     ]
    }
   ],
   "source": [
    "# TRAINING DATASET PREPROCESSING\n",
    "training_dataset_object = ImageDataGenerator(\n",
    "        rescale=1./255,\n",
    "        shear_range=0.2,\n",
    "        zoom_range=0.2,\n",
    "        horizontal_flip=True)\n",
    "training_dataset = training_dataset_object.flow_from_directory(\n",
    "        'dataset/training_set',\n",
    "        target_size=(64, 64),\n",
    "        batch_size=32,\n",
    "        class_mode='binary')\n",
    "\n",
    "# TEST DATASET PREPROCESSING\n",
    "test_dataset_object = ImageDataGenerator(rescale=1./255)\n",
    "test_dataset = test_dataset_object.flow_from_directory(\n",
    "        'dataset/test_set',\n",
    "        target_size=(64, 64),\n",
    "        batch_size=32,\n",
    "        class_mode='binary')"
   ]
  },
  {
   "cell_type": "code",
   "execution_count": 4,
   "metadata": {
    "colab": {},
    "colab_type": "code",
    "id": "1SjGEIqipyJG"
   },
   "outputs": [],
   "source": [
    "# INITIALISING CNN\n",
    "cnn = tf.keras.models.Sequential()"
   ]
  },
  {
   "cell_type": "code",
   "execution_count": 5,
   "metadata": {
    "colab": {},
    "colab_type": "code",
    "id": "NQ39YiN3q3Jo"
   },
   "outputs": [],
   "source": [
    "# ADDING CONVOLUTION,MAX POOLING,FLATTENING,FULLY CONNECTED LAYER AND OUTPUT LAYER\n",
    "cnn.add(tf.keras.layers.Conv2D(filters = 32, kernel_size = 3, strides = (1,1), padding = 'valid', activation = 'relu', input_shape = (64,64,3)))\n",
    "cnn.add(tf.keras.layers.MaxPool2D(pool_size = (2,2), strides = 2, padding = 'valid'))\n",
    "cnn.add(tf.keras.layers.Conv2D(filters = 32, kernel_size = 3, strides = (1,1), padding = 'valid', activation = 'relu'))\n",
    "cnn.add(tf.keras.layers.MaxPool2D(pool_size = (2,2), strides = 2, padding = 'valid'))\n",
    "cnn.add(tf.keras.layers.Flatten())\n",
    "cnn.add(tf.keras.layers.Dense(units = 128, activation = 'relu'))\n",
    "cnn.add(tf.keras.layers.Dense(units = 1, activation = 'sigmoid')) # FOR BINARY -> SIGMOID && CATEGORY -> SOFTMAX"
   ]
  },
  {
   "cell_type": "code",
   "execution_count": 6,
   "metadata": {
    "colab": {},
    "colab_type": "code",
    "id": "AojwGHErzR2b"
   },
   "outputs": [],
   "source": [
    "# COMPILING CNN (OPTIMIZER, LOSS FUNCTION AND METRIC FOR ACCURACY)\n",
    "cnn.compile(loss = 'binary_crossentropy', optimizer = 'adam', metrics = ['accuracy'])"
   ]
  },
  {
   "cell_type": "code",
   "execution_count": 7,
   "metadata": {
    "colab": {},
    "colab_type": "code",
    "id": "RuUowJlC0M2t"
   },
   "outputs": [
    {
     "name": "stdout",
     "output_type": "stream",
     "text": [
      "Epoch 1/25\n",
      "250/250 [==============================] - 322s 1s/step - loss: 0.6897 - accuracy: 0.5353 - val_loss: 0.6558 - val_accuracy: 0.6070\n",
      "Epoch 2/25\n",
      "250/250 [==============================] - 109s 435ms/step - loss: 0.6208 - accuracy: 0.6522 - val_loss: 0.5909 - val_accuracy: 0.6810\n",
      "Epoch 3/25\n",
      "250/250 [==============================] - 110s 442ms/step - loss: 0.5770 - accuracy: 0.6991 - val_loss: 0.5331 - val_accuracy: 0.7320\n",
      "Epoch 4/25\n",
      "250/250 [==============================] - 110s 441ms/step - loss: 0.5466 - accuracy: 0.7264 - val_loss: 0.5198 - val_accuracy: 0.7470\n",
      "Epoch 5/25\n",
      "250/250 [==============================] - 114s 456ms/step - loss: 0.5196 - accuracy: 0.7425 - val_loss: 0.5408 - val_accuracy: 0.7295\n",
      "Epoch 6/25\n",
      "250/250 [==============================] - 131s 523ms/step - loss: 0.4925 - accuracy: 0.7614 - val_loss: 0.5042 - val_accuracy: 0.7605\n",
      "Epoch 7/25\n",
      "250/250 [==============================] - 126s 505ms/step - loss: 0.4869 - accuracy: 0.7691 - val_loss: 0.4857 - val_accuracy: 0.7685\n",
      "Epoch 8/25\n",
      "250/250 [==============================] - 114s 454ms/step - loss: 0.4712 - accuracy: 0.7705 - val_loss: 0.4767 - val_accuracy: 0.7805\n",
      "Epoch 9/25\n",
      "250/250 [==============================] - 114s 458ms/step - loss: 0.4570 - accuracy: 0.7807 - val_loss: 0.4624 - val_accuracy: 0.7955\n",
      "Epoch 10/25\n",
      "250/250 [==============================] - 114s 457ms/step - loss: 0.4518 - accuracy: 0.7887 - val_loss: 0.4517 - val_accuracy: 0.7875\n",
      "Epoch 11/25\n",
      "250/250 [==============================] - 109s 437ms/step - loss: 0.4444 - accuracy: 0.7916 - val_loss: 0.4607 - val_accuracy: 0.7840\n",
      "Epoch 12/25\n",
      "250/250 [==============================] - 108s 434ms/step - loss: 0.4371 - accuracy: 0.7935 - val_loss: 0.4371 - val_accuracy: 0.8010\n",
      "Epoch 13/25\n",
      "250/250 [==============================] - 106s 422ms/step - loss: 0.4252 - accuracy: 0.8004 - val_loss: 0.4530 - val_accuracy: 0.7890\n",
      "Epoch 14/25\n",
      "250/250 [==============================] - 111s 444ms/step - loss: 0.4134 - accuracy: 0.8090 - val_loss: 0.4983 - val_accuracy: 0.7805\n",
      "Epoch 15/25\n",
      "250/250 [==============================] - 105s 420ms/step - loss: 0.4186 - accuracy: 0.8039 - val_loss: 0.4359 - val_accuracy: 0.8005\n",
      "Epoch 16/25\n",
      "250/250 [==============================] - 105s 420ms/step - loss: 0.3964 - accuracy: 0.8214 - val_loss: 0.4259 - val_accuracy: 0.8140\n",
      "Epoch 17/25\n",
      "250/250 [==============================] - 108s 434ms/step - loss: 0.3915 - accuracy: 0.8179 - val_loss: 0.4382 - val_accuracy: 0.8065\n",
      "Epoch 18/25\n",
      "250/250 [==============================] - 105s 421ms/step - loss: 0.3875 - accuracy: 0.8229 - val_loss: 0.4368 - val_accuracy: 0.8070\n",
      "Epoch 19/25\n",
      "250/250 [==============================] - 105s 420ms/step - loss: 0.3751 - accuracy: 0.8291 - val_loss: 0.4290 - val_accuracy: 0.8185\n",
      "Epoch 20/25\n",
      "250/250 [==============================] - 105s 419ms/step - loss: 0.3731 - accuracy: 0.8288 - val_loss: 0.4323 - val_accuracy: 0.8080\n",
      "Epoch 21/25\n",
      "250/250 [==============================] - 105s 421ms/step - loss: 0.3740 - accuracy: 0.8299 - val_loss: 0.4637 - val_accuracy: 0.7845\n",
      "Epoch 22/25\n",
      "250/250 [==============================] - 112s 448ms/step - loss: 0.3658 - accuracy: 0.8385 - val_loss: 0.4275 - val_accuracy: 0.8015\n",
      "Epoch 23/25\n",
      "250/250 [==============================] - 112s 447ms/step - loss: 0.3571 - accuracy: 0.8414 - val_loss: 0.4456 - val_accuracy: 0.8060\n",
      "Epoch 24/25\n",
      "250/250 [==============================] - 112s 449ms/step - loss: 0.3480 - accuracy: 0.8413 - val_loss: 0.4357 - val_accuracy: 0.8100\n",
      "Epoch 25/25\n",
      "250/250 [==============================] - 126s 504ms/step - loss: 0.3484 - accuracy: 0.8503 - val_loss: 0.4513 - val_accuracy: 0.8020\n"
     ]
    },
    {
     "data": {
      "text/plain": [
       "<tensorflow.python.keras.callbacks.History at 0x70fd611520>"
      ]
     },
     "execution_count": 7,
     "metadata": {},
     "output_type": "execute_result"
    }
   ],
   "source": [
    "# TRAINING THE MODEL FOR TRAINING DATA AND EVALUATING IT OVER TEST DATA\n",
    "cnn.fit(x = training_dataset, validation_data = test_dataset, epochs = 25)"
   ]
  },
  {
   "cell_type": "code",
   "execution_count": 11,
   "metadata": {
    "colab": {},
    "colab_type": "code",
    "id": "AD81m3Kb1BEq"
   },
   "outputs": [
    {
     "name": "stdout",
     "output_type": "stream",
     "text": [
      "[[1.]]\n",
      "{'cats': 0, 'dogs': 1}\n",
      "dog\n"
     ]
    }
   ],
   "source": [
    "# MAKING A SINGLE PREDICTION FOR TESTING PURPOSE\n",
    "from keras.preprocessing import image\n",
    "import numpy as np\n",
    "\n",
    "test_image = image.load_img(path = 'dataset/single_prediction/cat_or_dog_2.jpg', target_size = (64,64))\n",
    "test_image = image.img_to_array(img = test_image)\n",
    "test_image = np.expand_dims(test_image, axis = 0)\n",
    "result = cnn.predict(test_image)\n",
    "print(result)\n",
    "\n",
    "index = training_dataset.class_indices # TO CHECK WHICH IS THE INDEX FOR DOG AND WHICH IS FOR CAT\n",
    "print(index)\n",
    "\n",
    "if result[0][0] == 1 :\n",
    "  prediction = 'dog'\n",
    "else :\n",
    "  prediction = 'cat'\n",
    "\n",
    "print(prediction)   "
   ]
  },
  {
   "cell_type": "code",
   "execution_count": null,
   "metadata": {},
   "outputs": [],
   "source": []
  }
 ],
 "metadata": {
  "colab": {
   "collapsed_sections": [],
   "name": "CNN_Cat-VS-Dog.ipynb",
   "provenance": []
  },
  "kernelspec": {
   "display_name": "Python 3",
   "language": "python",
   "name": "python3"
  },
  "language_info": {
   "codemirror_mode": {
    "name": "ipython",
    "version": 3
   },
   "file_extension": ".py",
   "mimetype": "text/x-python",
   "name": "python",
   "nbconvert_exporter": "python",
   "pygments_lexer": "ipython3",
   "version": "3.8.3"
  }
 },
 "nbformat": 4,
 "nbformat_minor": 1
}
